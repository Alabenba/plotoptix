{
 "cells": [
  {
   "cell_type": "markdown",
   "metadata": {},
   "source": [
    "## Create and modify mesh in code\n",
    "\n",
    "This example shows how to create a mesh programmatically, and then update mesh data: shading normals and texture mapping."
   ]
  },
  {
   "cell_type": "code",
   "execution_count": 1,
   "metadata": {},
   "outputs": [],
   "source": [
    "import numpy as np\n",
    "from plotoptix import TkOptiX\n",
    "from plotoptix.materials import m_diffuse"
   ]
  },
  {
   "cell_type": "markdown",
   "metadata": {},
   "source": [
    "Setup the scene:"
   ]
  },
  {
   "cell_type": "code",
   "execution_count": 2,
   "metadata": {},
   "outputs": [],
   "source": [
    "rt = TkOptiX()\n",
    "rt.set_param(min_accumulation_step=2, max_accumulation_frames=100)\n",
    "rt.setup_camera(\"cam1\", cam_type=\"DoF\", eye=[7, 1, 2], focal_scale=0.8, fov=35)\n",
    "rt.setup_light(\"light1\", pos=[10, -9, -8], color=[9, 8, 7], radius=4)\n",
    "rt.set_ambient([0.2, 0.3, 0.4])"
   ]
  },
  {
   "cell_type": "markdown",
   "metadata": {},
   "source": [
    "Icosahedron vertices and faces:"
   ]
  },
  {
   "cell_type": "code",
   "execution_count": 3,
   "metadata": {},
   "outputs": [],
   "source": [
    "pt = (1 + np.sqrt(5)) / 2\n",
    "\n",
    "points = [\n",
    "    [-1, pt, 0], [1, pt, 0], [-1, -pt, 0], [1, -pt, 0],\n",
    "    [0, -1, pt], [0, 1, pt], [0, -1, -pt], [0, 1, -pt],\n",
    "    [pt, 0, -1], [pt, 0, 1], [-pt, 0, -1], [-pt, 0, 1]\n",
    "]\n",
    "\n",
    "faces = [\n",
    "    [0, 11, 5], [0, 5, 1], [0, 1, 7], [0, 7, 10], [0, 10, 11],\n",
    "    [1, 5, 9], [5, 11, 4], [11, 10, 2], [10, 7, 6], [7, 1, 8],\n",
    "    [3, 9, 4], [3, 4, 2], [3, 2, 6], [3, 6, 8], [3, 8, 9],\n",
    "    [4, 9, 5], [2, 4, 11], [6, 2, 10], [8, 6, 7], [9, 8, 1]\n",
    "]"
   ]
  },
  {
   "cell_type": "markdown",
   "metadata": {},
   "source": [
    "Try also the other line, so smooth normals are pre-calculated by the package."
   ]
  },
  {
   "cell_type": "code",
   "execution_count": 4,
   "metadata": {},
   "outputs": [],
   "source": [
    "rt.set_mesh(\"m\", points, faces, c=[0.9, 0.8, 0.5])\n",
    "#rt.set_mesh(\"m\", points, faces, make_normals=True)"
   ]
  },
  {
   "cell_type": "markdown",
   "metadata": {},
   "source": [
    "Open GUI."
   ]
  },
  {
   "cell_type": "code",
   "execution_count": 5,
   "metadata": {},
   "outputs": [],
   "source": [
    "rt.start()"
   ]
  },
  {
   "cell_type": "markdown",
   "metadata": {},
   "source": [
    "Change the color:"
   ]
  },
  {
   "cell_type": "code",
   "execution_count": 6,
   "metadata": {},
   "outputs": [],
   "source": [
    "rt.update_mesh(\"m\", c=0.99)"
   ]
  },
  {
   "cell_type": "markdown",
   "metadata": {},
   "source": [
    "Prepare UV mapping so each face will use the same area of textures."
   ]
  },
  {
   "cell_type": "code",
   "execution_count": 7,
   "metadata": {},
   "outputs": [],
   "source": [
    "uv_map = [[0.01, 0.99], [0.99, 0.99], [0.5, 0.01]]\n",
    "uv_idx = 20 * [[0, 1, 2]]\n",
    "\n",
    "rt.update_mesh(\"m\", uvmap=uv_map, uvidx=uv_idx)"
   ]
  },
  {
   "cell_type": "markdown",
   "metadata": {},
   "source": [
    "Load texture, add it to the default material:"
   ]
  },
  {
   "cell_type": "code",
   "execution_count": 8,
   "metadata": {},
   "outputs": [],
   "source": [
    "rt.load_texture(\"tri\", \"tri.png\")\n",
    "m_diffuse[\"ColorTextures\"] = [ \"tri\" ]\n",
    "\n",
    "rt.update_material(\"diffuse\", m_diffuse)"
   ]
  },
  {
   "cell_type": "markdown",
   "metadata": {},
   "source": [
    "Calculate normals at each vertex, add normals to the mesh. Actually, result is the same if you use automatic pre-calculation of smooth normals (``make_normals=True`` variant). "
   ]
  },
  {
   "cell_type": "code",
   "execution_count": 9,
   "metadata": {},
   "outputs": [],
   "source": [
    "normals = [x / np.linalg.norm(x) for x in points]\n",
    "rt.update_mesh(\"m\", normals=normals)"
   ]
  },
  {
   "cell_type": "markdown",
   "metadata": {},
   "source": [
    "Close the session:"
   ]
  },
  {
   "cell_type": "code",
   "execution_count": 10,
   "metadata": {},
   "outputs": [],
   "source": [
    "rt.close()"
   ]
  }
 ],
 "metadata": {
  "kernelspec": {
   "display_name": "Python 3",
   "language": "python",
   "name": "python3"
  },
  "language_info": {
   "codemirror_mode": {
    "name": "ipython",
    "version": 3
   },
   "file_extension": ".py",
   "mimetype": "text/x-python",
   "name": "python",
   "nbconvert_exporter": "python",
   "pygments_lexer": "ipython3",
   "version": "3.7.4"
  }
 },
 "nbformat": 4,
 "nbformat_minor": 2
}
