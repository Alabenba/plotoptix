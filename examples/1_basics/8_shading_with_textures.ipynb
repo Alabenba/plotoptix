{
 "cells": [
  {
   "cell_type": "markdown",
   "metadata": {},
   "source": [
    "## Normal shading with textures\n",
    "\n",
    "This example shows how to:\n",
    "   - modify predefined materials\n",
    "   - use displacement map\n",
    "   - apply large textures to material\n",
    "   \n",
    "Tkinter GUI window is launched from the notebook in this example. This allows re-running code cells and see results without scrolling back to an inlined figure.\n",
    "\n",
    "![notebook output image](https://plotoptix.rnd.team/images/normal_shading_with_textures.jpg \"This notebook output\")"
   ]
  },
  {
   "cell_type": "code",
   "execution_count": 1,
   "metadata": {},
   "outputs": [],
   "source": [
    "import numpy as np\n",
    "from plotoptix import TkOptiX\n",
    "from plotoptix.materials import m_clear_glass, m_plastic # predefined materials\n",
    "from plotoptix.utils import map_to_colors, make_color_2d, read_image, simplex"
   ]
  },
  {
   "cell_type": "markdown",
   "metadata": {},
   "source": [
    "Make some data first."
   ]
  },
  {
   "cell_type": "code",
   "execution_count": 2,
   "metadata": {},
   "outputs": [],
   "source": [
    "m = 300\n",
    "r = 0.08 * np.random.rand(m) + 0.01\n",
    "p = 3 * (np.random.rand(m,3) - 0.5)\n",
    "p[:,0] *= 0.8\n",
    "p[:,2] *= 1.5\n",
    "p[:,1] = r[:]"
   ]
  },
  {
   "cell_type": "markdown",
   "metadata": {},
   "source": [
    "Setup the raytracer using Tkinter GUI as the output target."
   ]
  },
  {
   "cell_type": "code",
   "execution_count": 3,
   "metadata": {},
   "outputs": [],
   "source": [
    "rt = TkOptiX()\n",
    "rt.set_param(min_accumulation_step=4,    # set more accumulation frames to get rid of the noise\n",
    "             max_accumulation_frames=512,\n",
    "             light_shading=\"Hard\")       # use ligth shading best for caustics\n",
    "rt.set_uint(\"path_seg_range\", 5, 10)     # more path segments to allow multiple reflections"
   ]
  },
  {
   "cell_type": "markdown",
   "metadata": {},
   "source": [
    "Only *diffuse* material is available by default. Other materials need to be configured before using."
   ]
  },
  {
   "cell_type": "code",
   "execution_count": 4,
   "metadata": {},
   "outputs": [],
   "source": [
    "import copy\n",
    "m_beads = copy.deepcopy(m_plastic) # a new material based on predefined properties\n",
    "\n",
    "rt.setup_material(\"plastic\", m_plastic)\n",
    "rt.setup_material(\"glass\", m_clear_glass)\n",
    "rt.setup_material(\"beads\", m_beads)"
   ]
  },
  {
   "cell_type": "markdown",
   "metadata": {},
   "source": [
    "Add objects to the scene.\n",
    "\n",
    "**Note 1:** particles with ``geom=\"ParticleSetTextured\"`` geometry can have 3D orientation, provided with ``u`` and ``v`` arguments, required for applying textures. 3D oreintation is randomized if these vectors are omitted.\n",
    "\n",
    "**Note 2:** ``geom_attr=\"DisplacedSurface\"`` is used to allow for displacement mapping."
   ]
  },
  {
   "cell_type": "code",
   "execution_count": 5,
   "metadata": {},
   "outputs": [],
   "source": [
    "rt.set_data(\"plane\", geom=\"Parallelograms\", mat=\"plastic\",\n",
    "            pos=[-3, 0, -3], u=[6, 0, 0], v=[0, 0, 6], c=0.8)\n",
    "\n",
    "rt.set_data(\"sphere\", geom=\"ParticleSetTextured\", mat=\"glass\", geom_attr=\"DisplacedSurface\",\n",
    "            pos=[0.0, 0.7, 0.0], u=[-1, 0, 0], r=0.4, c=10)\n",
    "\n",
    "rt.set_data(\"particles\", geom=\"ParticleSetTextured\", mat=\"beads\",\n",
    "            pos=p, r=r, c=0.95)"
   ]
  },
  {
   "cell_type": "markdown",
   "metadata": {},
   "source": [
    "Setup a good point of view, set background and lights."
   ]
  },
  {
   "cell_type": "code",
   "execution_count": 6,
   "metadata": {},
   "outputs": [],
   "source": [
    "rt.setup_camera(\"cam1\", cam_type=\"DoF\",\n",
    "                eye=[-2.1, 2.4, 0], target=[0, 0, 0], up=[0.28, 0.96, 0.05],\n",
    "                aperture_radius=0.01, fov=30, focal_scale=0.91)\n",
    "\n",
    "rt.setup_light(\"light1\", pos=[4, 5.1, 3], color=[12, 11, 10], radius=1.9)\n",
    "rt.setup_light(\"light2\", pos=[-1.5, 3, -2], color=[8, 9, 10], radius=0.2)\n",
    "rt.set_background(0)\n",
    "rt.set_ambient(0)\n",
    "\n",
    "exposure = 0.4; gamma = 2.2 \n",
    "rt.set_float(\"tonemap_exposure\", exposure)\n",
    "rt.set_float(\"tonemap_gamma\", gamma)\n",
    "rt.set_float(\"denoiser_blend\", 0.25)\n",
    "rt.add_postproc(\"Denoiser\")  # apply gamma correction postprocessing stage, or\n",
    "#rt.add_postproc(\"Gamma\")    # use AI denoiser (exposure and gamma are applied as well)"
   ]
  },
  {
   "cell_type": "markdown",
   "metadata": {},
   "source": [
    "Open the GUI."
   ]
  },
  {
   "cell_type": "code",
   "execution_count": 7,
   "metadata": {
    "scrolled": true
   },
   "outputs": [],
   "source": [
    "rt.start()"
   ]
  },
  {
   "cell_type": "markdown",
   "metadata": {},
   "source": [
    "Make a gradient texture, use it with the *glass* material:"
   ]
  },
  {
   "cell_type": "code",
   "execution_count": 8,
   "metadata": {},
   "outputs": [],
   "source": [
    "y = np.linspace(0, 1, 100)\n",
    "M = np.stack((y,y)).T"
   ]
  },
  {
   "cell_type": "code",
   "execution_count": 9,
   "metadata": {},
   "outputs": [],
   "source": [
    "M1 = map_to_colors(-M, \"Purples\")\n",
    "M1 = make_color_2d(M1, gamma=gamma, channel_order=\"RGBA\")\n",
    "rt.set_texture_2d(\"purple\", 10*M1)\n",
    "\n",
    "m_clear_glass[\"ColorTextures\"] = [ \"purple\" ]\n",
    "m_clear_glass[\"VarFloat3\"][\"refraction_index\"] = [1.4, 1.4, 1.4]\n",
    "rt.update_material(\"glass\", m_clear_glass, refresh=True)"
   ]
  },
  {
   "cell_type": "markdown",
   "metadata": {},
   "source": [
    "Make a gradient with another color map for the plastic particles."
   ]
  },
  {
   "cell_type": "code",
   "execution_count": 10,
   "metadata": {},
   "outputs": [],
   "source": [
    "M2 = map_to_colors(M, \"RdYlBu\")\n",
    "M2 = make_color_2d(M2, gamma=gamma, channel_order=\"RGBA\")\n",
    "rt.set_texture_2d(\"redyellowblue\", M2)\n",
    "\n",
    "m_beads[\"ColorTextures\"] = [ \"redyellowblue\" ]\n",
    "rt.update_material(\"beads\", m_beads, refresh=True)"
   ]
  },
  {
   "cell_type": "markdown",
   "metadata": {},
   "source": [
    "Calculate displacement map over 2D plane using simplex noise:"
   ]
  },
  {
   "cell_type": "code",
   "execution_count": 11,
   "metadata": {},
   "outputs": [],
   "source": [
    "nn = 2000\n",
    "x = np.linspace(0, 50, nn)\n",
    "z = np.linspace(0, 50, nn)\n",
    "\n",
    "X, Z = np.meshgrid(x, z)\n",
    "XZ = np.stack((X.flatten(), Z.flatten(), np.full(nn**2, 1.0, dtype=np.float32))).T.reshape(nn, nn, 3)\n",
    "XZ = np.ascontiguousarray(XZ, dtype=np.float32)\n",
    "Y = simplex(XZ)\n",
    "Y = np.sin(10 * Y)"
   ]
  },
  {
   "cell_type": "markdown",
   "metadata": {},
   "source": [
    "Use the displacement map for the shading normal tilt. Displacement is relative to the object size, it should be a small value to look like a wrinkles on the plane. Shading modulation is implemented as a ``Float2`` texture calculated from the displacement, and accompanied with an inverse aspect ratio, ``normaltilt_iar``, parameter. Use ``set_normal_tilt()`` method to set these two parameters."
   ]
  },
  {
   "cell_type": "code",
   "execution_count": 12,
   "metadata": {},
   "outputs": [],
   "source": [
    "rt.set_normal_tilt(\"plastic\", 0.00008*Y, refresh=True)"
   ]
  },
  {
   "cell_type": "markdown",
   "metadata": {},
   "source": [
    "OK, to make it more interesting, let's add some lines along wrinkles. An RGBA texture is needed for this."
   ]
  },
  {
   "cell_type": "code",
   "execution_count": 13,
   "metadata": {},
   "outputs": [],
   "source": [
    "Ym = 0.5 * (np.copy(Y) + 1)\n",
    "m = (Ym > 0.45) & (Ym < 0.55)\n",
    "Ym[m] = 0.0\n",
    "Ym[~m] = 0.95"
   ]
  },
  {
   "cell_type": "code",
   "execution_count": 14,
   "metadata": {},
   "outputs": [],
   "source": [
    "M3 = make_color_2d(Ym, channel_order=\"RGBA\")\n",
    "rt.set_texture_2d(\"ripples\", M3)\n",
    "\n",
    "m_plastic[\"ColorTextures\"] = [ \"ripples\" ]\n",
    "rt.update_material(\"plastic\", m_plastic, refresh=True)"
   ]
  },
  {
   "cell_type": "markdown",
   "metadata": {},
   "source": [
    "Surface of spheres can be actually displaced, which gives accurate look of a strongly modified object, not only an impression of inclined surface."
   ]
  },
  {
   "cell_type": "code",
   "execution_count": 15,
   "metadata": {},
   "outputs": [],
   "source": [
    "#D = read_image(\"data/blur.png\", normalized=True).mean(axis=2)\n",
    "#rt.set_displacement(\"sphere\", 0.7 + 0.3*D, refresh=True)\n",
    "\n",
    "rt.load_displacement(\"sphere\", \"data/blur.png\", prescale=0.3, baseline=0.7, refresh=True)"
   ]
  },
  {
   "cell_type": "markdown",
   "metadata": {},
   "source": [
    "Close GUI window, release resources."
   ]
  },
  {
   "cell_type": "code",
   "execution_count": 16,
   "metadata": {},
   "outputs": [],
   "source": [
    "rt.close()"
   ]
  }
 ],
 "metadata": {
  "kernelspec": {
   "display_name": "Python 3",
   "language": "python",
   "name": "python3"
  },
  "language_info": {
   "codemirror_mode": {
    "name": "ipython",
    "version": 3
   },
   "file_extension": ".py",
   "mimetype": "text/x-python",
   "name": "python",
   "nbconvert_exporter": "python",
   "pygments_lexer": "ipython3",
   "version": "3.7.4"
  }
 },
 "nbformat": 4,
 "nbformat_minor": 2
}
