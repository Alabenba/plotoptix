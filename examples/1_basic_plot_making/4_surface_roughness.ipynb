{
 "cells": [
  {
   "cell_type": "markdown",
   "metadata": {},
   "source": [
    "## Surface roughness\n",
    "\n",
    "This example shows how to:\n",
    "   - use materials with predefined surface roughness\n",
    "   - modify roughness\n",
    "\n",
    "![plotoptix ray_tracing_output](https://plotoptix.rnd.team/images/material_roughness.jpg \"This notebook output\")\n",
    "\n",
    "All materials in PlotOptiX have the roughness parameterized with ``surface_roughness``, the sigma of the gaussian distribution of microfacet slopes. Oren-Nayar reflectance model is used for *diffuse* materials, reduced to Lambertian reflectance if sigma is set to 0 (which is default and also faster shading). Reflective and transmissive materials use smearing of the surface normal according to the configured slope distribution."
   ]
  },
  {
   "cell_type": "markdown",
   "metadata": {},
   "source": [
    "Make some data for a simple scene first:"
   ]
  },
  {
   "cell_type": "code",
   "execution_count": 1,
   "metadata": {},
   "outputs": [],
   "source": [
    "import numpy as np\n",
    "\n",
    "rx = (-20, 20)\n",
    "rz = (-20, 20)\n",
    "n = 100\n",
    "\n",
    "x = np.linspace(rx[0], rx[1], n)\n",
    "z = np.linspace(rz[0], rz[1], n)\n",
    "\n",
    "X, Z = np.meshgrid(x, z)\n",
    "\n",
    "# positions of blocks\n",
    "data = np.stack((X.flatten(), np.zeros(n*n), Z.flatten())).T\n",
    "# XZ sizes\n",
    "size_u = 0.96 * (rx[1] - rx[0]) / (n - 1)\n",
    "size_w = 0.96 * (rz[1] - rz[0]) / (n - 1)"
   ]
  },
  {
   "cell_type": "markdown",
   "metadata": {},
   "source": [
    "Setup the raytracer using Tkinter GUI as the output target:"
   ]
  },
  {
   "cell_type": "code",
   "execution_count": 2,
   "metadata": {},
   "outputs": [],
   "source": [
    "from plotoptix import TkOptiX\n",
    "\n",
    "optix = TkOptiX()\n",
    "optix.set_param(min_accumulation_step=4,     # set more accumulation frames to get rid of the noise\n",
    "                max_accumulation_frames=512,\n",
    "                light_shading=\"Hard\")        # use ligth shading best for caustics\n",
    "\n",
    "optix.set_uint(\"path_seg_range\", 5, 10)      # more path segments to allow multiple refractions"
   ]
  },
  {
   "cell_type": "markdown",
   "metadata": {},
   "source": [
    "Only *diffuse* material is available by default. Other materials need to be configured before using."
   ]
  },
  {
   "cell_type": "code",
   "execution_count": 3,
   "metadata": {},
   "outputs": [],
   "source": [
    "from plotoptix.materials import m_clear_glass, m_matt_glass, m_diffuse, m_matt_diffuse, m_plastic, m_matt_plastic, m_mirror, m_metalic\n",
    "\n",
    "m_matt_glass_2 = m_matt_glass.copy()\n",
    "m_matt_diffuse_2 = m_matt_diffuse.copy()\n",
    "m_matt_plastic_2 = m_matt_plastic.copy()\n",
    "m_metalic_2 = m_metalic.copy()\n",
    "\n",
    "optix.setup_material(\"matt_diffuse\", m_matt_diffuse)\n",
    "optix.setup_material(\"matt_diffuse_2\", m_matt_diffuse_2)\n",
    "optix.setup_material(\"glass\", m_clear_glass)\n",
    "optix.setup_material(\"matt_glass\", m_matt_glass)\n",
    "optix.setup_material(\"matt_glass_2\", m_matt_glass_2)\n",
    "optix.setup_material(\"plastic\", m_plastic)\n",
    "optix.setup_material(\"matt_plastic\", m_matt_plastic)\n",
    "optix.setup_material(\"matt_plastic_2\", m_matt_plastic_2)\n",
    "optix.setup_material(\"mirror\", m_mirror)\n",
    "optix.setup_material(\"metalic\", m_metalic)\n",
    "optix.setup_material(\"metalic_2\", m_metalic_2)"
   ]
  },
  {
   "cell_type": "markdown",
   "metadata": {},
   "source": [
    "Add objects to the scene."
   ]
  },
  {
   "cell_type": "code",
   "execution_count": 4,
   "metadata": {},
   "outputs": [],
   "source": [
    "optix.set_data(\"blocks\", pos=data,\n",
    "               c=0.02 + 0.45*np.random.randint(3, size=data.shape[0]),\n",
    "               u=[size_u, 0, 0], v=[0, -1, 0], w=[0, 0, size_w],\n",
    "               geom=\"Parallelepipeds\")\n",
    "\n",
    "optix.set_data(\"s_diffuse\", pos=[-4.2, 0, -4.5], u=[2.5, 0, 0], v=[0, 2.5, 0], w=[0, 0, 2.5], c=0.95, mat=\"diffuse\", geom=\"Parallelepipeds\")\n",
    "optix.set_data(\"s_matt_diffuse\", pos=[-1.2, 0, -4.5], u=[2.5, 0, 0], v=[0, 2.5, 0], w=[0, 0, 2.5], c=0.95, mat=\"matt_diffuse\", geom=\"Parallelepipeds\")\n",
    "optix.set_data(\"s_matt_diffuse_2\", pos=[2, 0, -4.5], u=[2.5, 0, 0], v=[0, 2.5, 0], c=0.95, mat=\"matt_diffuse_2\", geom=\"Parallelepipeds\")\n",
    "\n",
    "optix.set_data(\"s_glass\", pos=[-3.1, 1.5, 0], r=1.5, c=10, mat=\"glass\")\n",
    "optix.set_data(\"s_matt_glass\", pos=[0, 1.5, 0], r=1.5, c=10, mat=\"matt_glass\")\n",
    "optix.set_data(\"s_matt_glass_2\", pos=[3.1, 1.5, 0], r=1.5, c=10, mat=\"matt_glass_2\")\n",
    "\n",
    "optix.set_data(\"s_plastic\", pos=[-3.1, 1.5, 3.1], r=1.5, c=0.95, mat=\"plastic\")\n",
    "optix.set_data(\"s_matt_plastic\", pos=[0, 1.5, 3.1], r=1.5, c=0.95, mat=\"matt_plastic\")\n",
    "optix.set_data(\"s_matt_plastic_2\", pos=[3.1, 1.5, 3.1], r=1.5, c=0.95, mat=\"matt_plastic_2\")\n",
    "\n",
    "optix.set_data(\"s_mirror\", pos=[-3.1, 1.5, 6.2], r=1.5, c=0.9, mat=\"mirror\")\n",
    "optix.set_data(\"s_metalic\", pos=[0, 1.5, 6.2], r=1.5, c=0.9, mat=\"metalic\")\n",
    "optix.set_data(\"s_metalic_2\", pos=[3.1, 1.5, 6.2], r=1.5, c=0.9, mat=\"metalic_2\")"
   ]
  },
  {
   "cell_type": "markdown",
   "metadata": {},
   "source": [
    "Setup a good point of view, set background and lights."
   ]
  },
  {
   "cell_type": "code",
   "execution_count": 5,
   "metadata": {},
   "outputs": [],
   "source": [
    "optix.setup_camera(\"cam1\", cam_type=\"DoF\",\n",
    "                   eye=[-6.5, 13, 1.55], target=[0, 0, 1.55], up=[0.9, 0.4, 0],\n",
    "                   aperture_radius=0.01, fov=45, focal_scale=0.8)\n",
    "\n",
    "optix.setup_light(\"light1\", pos=[5, 8, 7], color=[3, 3, 3], radius=1.9)\n",
    "optix.setup_light(\"light2\", pos=[-6, 8, -5], color=[8, 10, 12], radius=1.3)\n",
    "\n",
    "exposure = 1.1; gamma = 2.2 \n",
    "optix.set_float(\"tonemap_exposure\", exposure)\n",
    "optix.set_float(\"tonemap_igamma\", 1 / gamma)\n",
    "optix.add_postproc(\"Gamma\")        # apply gamma correction postprocessing stage, or\n",
    "#optix.setup_denoiser(blend=0.2)   # use AI denoiser (exposure and gamma are applied as well)\n",
    "\n",
    "optix.set_background_mode(\"TextureEnvironment\")\n",
    "optix.set_background(\"data/starmap_4k.jpg\", gamma=gamma)"
   ]
  },
  {
   "cell_type": "markdown",
   "metadata": {},
   "source": [
    "Open the GUI."
   ]
  },
  {
   "cell_type": "code",
   "execution_count": 6,
   "metadata": {
    "scrolled": true
   },
   "outputs": [],
   "source": [
    "optix.start()"
   ]
  },
  {
   "cell_type": "markdown",
   "metadata": {},
   "source": [
    "Modify roughness of the surfaces in the third row. The effect is obvious except for the diffuse material, but note how much light leaks between cubes depending on the roughness."
   ]
  },
  {
   "cell_type": "code",
   "execution_count": 7,
   "metadata": {},
   "outputs": [],
   "source": [
    "m_matt_diffuse_2[\"VarFloat\"][\"surface_roughness\"] = 10    # more than the default 1.0\n",
    "optix.update_material(\"matt_diffuse_2\", m_matt_diffuse_2)\n",
    "\n",
    "m_matt_glass_2[\"VarFloat\"][\"surface_roughness\"] = 0.002   # less than the default 0.2\n",
    "optix.update_material(\"matt_glass_2\", m_matt_glass_2)\n",
    "\n",
    "m_matt_plastic_2[\"VarFloat\"][\"surface_roughness\"] = 0.01  # more than the default 0.001\n",
    "optix.update_material(\"matt_plastic_2\", m_matt_plastic_2)\n",
    "\n",
    "m_metalic_2[\"VarFloat\"][\"surface_roughness\"] = 0.02       # more than the default 0.002\n",
    "optix.update_material(\"metalic_2\", m_metalic_2, refresh=True)"
   ]
  },
  {
   "cell_type": "markdown",
   "metadata": {},
   "source": [
    "Close GUI window, release resources."
   ]
  },
  {
   "cell_type": "code",
   "execution_count": 8,
   "metadata": {},
   "outputs": [],
   "source": [
    "optix.close()"
   ]
  },
  {
   "cell_type": "code",
   "execution_count": null,
   "metadata": {},
   "outputs": [],
   "source": []
  }
 ],
 "metadata": {
  "kernelspec": {
   "display_name": "Python 3",
   "language": "python",
   "name": "python3"
  },
  "language_info": {
   "codemirror_mode": {
    "name": "ipython",
    "version": 3
   },
   "file_extension": ".py",
   "mimetype": "text/x-python",
   "name": "python",
   "nbconvert_exporter": "python",
   "pygments_lexer": "ipython3",
   "version": "3.6.5"
  }
 },
 "nbformat": 4,
 "nbformat_minor": 2
}
